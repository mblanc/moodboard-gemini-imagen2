{
 "cells": [
  {
   "cell_type": "code",
   "execution_count": null,
   "id": "1c717159-a42a-48b1-8d1a-b7c347ddd2fc",
   "metadata": {},
   "outputs": [],
   "source": [
    "PROJECT_ID = \"[your-project-id]\"\n",
    "REGION = \"us-central1\"\n",
    "SERVICE=\"streamlit-moodboard\""
   ]
  },
  {
   "cell_type": "code",
   "execution_count": null,
   "id": "526443f0-6779-4fd0-be25-cc860abedd69",
   "metadata": {
    "tags": []
   },
   "outputs": [],
   "source": [
    "# Set the IMAGE_URI\n",
    "IMAGE_URI=f\"gcr.io/{PROJECT_ID}/streamlit-moodboard:v1\""
   ]
  },
  {
   "cell_type": "code",
   "execution_count": null,
   "id": "332dc8a9-abe8-461e-8d3a-3b790de4527f",
   "metadata": {
    "tags": []
   },
   "outputs": [],
   "source": [
    "! docker build -f ./Dockerfile -t $IMAGE_URI ."
   ]
  },
  {
   "cell_type": "code",
   "execution_count": null,
   "id": "ca4f0fac-beb4-48f9-9fd6-edc8a52a24a9",
   "metadata": {
    "tags": []
   },
   "outputs": [],
   "source": [
    "! docker push $IMAGE_URI"
   ]
  },
  {
   "cell_type": "code",
   "execution_count": null,
   "id": "ba04b769-0564-410a-b1d4-6d094bf8ee38",
   "metadata": {
    "tags": []
   },
   "outputs": [],
   "source": [
    "!gcloud run deploy $SERVICE --image $IMAGE_URI --region $REGION --memory 4Gi --cpu 8"
   ]
  },
  {
   "cell_type": "code",
   "execution_count": null,
   "id": "7192674a-8163-479a-8820-63bb9d569732",
   "metadata": {},
   "outputs": [],
   "source": [
    "!gcloud beta run services logs tail $SERVICE --project $PROJECT_ID --region $REGION"
   ]
  }
 ],
 "metadata": {
  "environment": {
   "kernel": "conda-root-py",
   "name": "workbench-notebooks.m113",
   "type": "gcloud",
   "uri": "gcr.io/deeplearning-platform-release/workbench-notebooks:m113"
  },
  "kernelspec": {
   "display_name": "Python 3 (ipykernel) (Local)",
   "language": "python",
   "name": "conda-root-py"
  },
  "language_info": {
   "codemirror_mode": {
    "name": "ipython",
    "version": 3
   },
   "file_extension": ".py",
   "mimetype": "text/x-python",
   "name": "python",
   "nbconvert_exporter": "python",
   "pygments_lexer": "ipython3",
   "version": "3.10.13"
  }
 },
 "nbformat": 4,
 "nbformat_minor": 5
}
